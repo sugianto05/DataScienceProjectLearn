{
 "cells": [
  {
   "cell_type": "code",
   "execution_count": 1,
   "metadata": {},
   "outputs": [],
   "source": [
    "import pandas as pd\n",
    "import numpy as np\n",
    "import matplotlib.pyplot as plt\n",
    "import seaborn as sns"
   ]
  },
  {
   "cell_type": "code",
   "execution_count": 2,
   "metadata": {},
   "outputs": [],
   "source": [
    "url = 'https://en.wikipedia.org/wiki/List_of_best-selling_video_games'\n",
    "results= pd.read_html(url)"
   ]
  },
  {
   "cell_type": "code",
   "execution_count": 3,
   "metadata": {},
   "outputs": [
    {
     "data": {
      "text/plain": [
       "4"
      ]
     },
     "execution_count": 3,
     "metadata": {},
     "output_type": "execute_result"
    }
   ],
   "source": [
    "len(results)"
   ]
  },
  {
   "cell_type": "code",
   "execution_count": 4,
   "metadata": {},
   "outputs": [],
   "source": [
    "df = results[1]"
   ]
  },
  {
   "cell_type": "code",
   "execution_count": 5,
   "metadata": {},
   "outputs": [
    {
     "data": {
      "text/html": [
       "<div>\n",
       "<style scoped>\n",
       "    .dataframe tbody tr th:only-of-type {\n",
       "        vertical-align: middle;\n",
       "    }\n",
       "\n",
       "    .dataframe tbody tr th {\n",
       "        vertical-align: top;\n",
       "    }\n",
       "\n",
       "    .dataframe thead th {\n",
       "        text-align: right;\n",
       "    }\n",
       "</style>\n",
       "<table border=\"1\" class=\"dataframe\">\n",
       "  <thead>\n",
       "    <tr style=\"text-align: right;\">\n",
       "      <th></th>\n",
       "      <th>Title</th>\n",
       "      <th>Sales</th>\n",
       "      <th>Platform(s)</th>\n",
       "      <th>Initial release date</th>\n",
       "      <th>Developer(s)[a]</th>\n",
       "      <th>Publisher(s)[a]</th>\n",
       "      <th>Bundled with a console?</th>\n",
       "      <th>Ref.</th>\n",
       "    </tr>\n",
       "  </thead>\n",
       "  <tbody>\n",
       "    <tr>\n",
       "      <td>0</td>\n",
       "      <td>Minecraft</td>\n",
       "      <td>180,000,000[b]</td>\n",
       "      <td>Multi-platform</td>\n",
       "      <td>November 18, 2011[c]</td>\n",
       "      <td>Mojang</td>\n",
       "      <td>Xbox Game Studios</td>\n",
       "      <td>NaN</td>\n",
       "      <td>[2]</td>\n",
       "    </tr>\n",
       "    <tr>\n",
       "      <td>1</td>\n",
       "      <td>Tetris</td>\n",
       "      <td>170,000,000[b]</td>\n",
       "      <td>Multi-platform</td>\n",
       "      <td>June 6, 1984</td>\n",
       "      <td>Elektronorgtechnica</td>\n",
       "      <td>Various[d]</td>\n",
       "      <td>NaN</td>\n",
       "      <td>[4][e]</td>\n",
       "    </tr>\n",
       "    <tr>\n",
       "      <td>2</td>\n",
       "      <td>Grand Theft Auto V</td>\n",
       "      <td>115000000</td>\n",
       "      <td>Multi-platform</td>\n",
       "      <td>September 17, 2013</td>\n",
       "      <td>Rockstar North</td>\n",
       "      <td>Rockstar Games</td>\n",
       "      <td>NaN</td>\n",
       "      <td>[8]</td>\n",
       "    </tr>\n",
       "    <tr>\n",
       "      <td>3</td>\n",
       "      <td>Wii Sports</td>\n",
       "      <td>82880000</td>\n",
       "      <td>Wii</td>\n",
       "      <td>November 19, 2006</td>\n",
       "      <td>Nintendo EAD</td>\n",
       "      <td>Nintendo</td>\n",
       "      <td>NaN</td>\n",
       "      <td>[9]</td>\n",
       "    </tr>\n",
       "    <tr>\n",
       "      <td>4</td>\n",
       "      <td>PlayerUnknown's Battlegrounds</td>\n",
       "      <td>50000000</td>\n",
       "      <td>Multi-platform</td>\n",
       "      <td>December 20, 2017</td>\n",
       "      <td>PUBG Corporation</td>\n",
       "      <td>PUBG Corporation</td>\n",
       "      <td>NaN</td>\n",
       "      <td>[10]</td>\n",
       "    </tr>\n",
       "  </tbody>\n",
       "</table>\n",
       "</div>"
      ],
      "text/plain": [
       "                           Title           Sales     Platform(s)  \\\n",
       "0                      Minecraft  180,000,000[b]  Multi-platform   \n",
       "1                         Tetris  170,000,000[b]  Multi-platform   \n",
       "2             Grand Theft Auto V       115000000  Multi-platform   \n",
       "3                     Wii Sports        82880000             Wii   \n",
       "4  PlayerUnknown's Battlegrounds        50000000  Multi-platform   \n",
       "\n",
       "   Initial release date      Developer(s)[a]    Publisher(s)[a]  \\\n",
       "0  November 18, 2011[c]               Mojang  Xbox Game Studios   \n",
       "1          June 6, 1984  Elektronorgtechnica         Various[d]   \n",
       "2    September 17, 2013       Rockstar North     Rockstar Games   \n",
       "3     November 19, 2006         Nintendo EAD           Nintendo   \n",
       "4     December 20, 2017     PUBG Corporation   PUBG Corporation   \n",
       "\n",
       "   Bundled with a console?    Ref.  \n",
       "0                      NaN     [2]  \n",
       "1                      NaN  [4][e]  \n",
       "2                      NaN     [8]  \n",
       "3                      NaN     [9]  \n",
       "4                      NaN    [10]  "
      ]
     },
     "execution_count": 5,
     "metadata": {},
     "output_type": "execute_result"
    }
   ],
   "source": [
    "df.head(5)"
   ]
  },
  {
   "cell_type": "code",
   "execution_count": 6,
   "metadata": {},
   "outputs": [
    {
     "name": "stdout",
     "output_type": "stream",
     "text": [
      "<class 'pandas.core.frame.DataFrame'>\n",
      "RangeIndex: 50 entries, 0 to 49\n",
      "Data columns (total 8 columns):\n",
      "Title                      50 non-null object\n",
      "Sales                      50 non-null object\n",
      "Platform(s)                50 non-null object\n",
      "Initial release date       50 non-null object\n",
      "Developer(s)[a]            50 non-null object\n",
      "Publisher(s)[a]            50 non-null object\n",
      "Bundled with a console?    0 non-null float64\n",
      "Ref.                       50 non-null object\n",
      "dtypes: float64(1), object(7)\n",
      "memory usage: 1.8+ KB\n"
     ]
    }
   ],
   "source": [
    "df.info()"
   ]
  },
  {
   "cell_type": "code",
   "execution_count": 7,
   "metadata": {},
   "outputs": [],
   "source": [
    "df.drop('Bundled with a console?', axis=1,inplace=True)\n",
    "df.drop('Ref.', axis=1,inplace=True)"
   ]
  },
  {
   "cell_type": "code",
   "execution_count": 8,
   "metadata": {},
   "outputs": [],
   "source": [
    "df['Sales'] = df['Sales'].apply(lambda x : str(x.rstrip('[b]')))"
   ]
  },
  {
   "cell_type": "code",
   "execution_count": 9,
   "metadata": {},
   "outputs": [],
   "source": [
    "df['Sales'] = df.Sales.str.replace(',', '').astype(int)"
   ]
  },
  {
   "cell_type": "code",
   "execution_count": 10,
   "metadata": {},
   "outputs": [
    {
     "data": {
      "text/html": [
       "<div>\n",
       "<style scoped>\n",
       "    .dataframe tbody tr th:only-of-type {\n",
       "        vertical-align: middle;\n",
       "    }\n",
       "\n",
       "    .dataframe tbody tr th {\n",
       "        vertical-align: top;\n",
       "    }\n",
       "\n",
       "    .dataframe thead th {\n",
       "        text-align: right;\n",
       "    }\n",
       "</style>\n",
       "<table border=\"1\" class=\"dataframe\">\n",
       "  <thead>\n",
       "    <tr style=\"text-align: right;\">\n",
       "      <th></th>\n",
       "      <th>Title</th>\n",
       "      <th>Sales</th>\n",
       "      <th>Platform(s)</th>\n",
       "      <th>Initial release date</th>\n",
       "      <th>Developer(s)[a]</th>\n",
       "      <th>Publisher(s)[a]</th>\n",
       "    </tr>\n",
       "  </thead>\n",
       "  <tbody>\n",
       "    <tr>\n",
       "      <td>0</td>\n",
       "      <td>Minecraft</td>\n",
       "      <td>180000000</td>\n",
       "      <td>Multi-platform</td>\n",
       "      <td>November 18, 2011[c]</td>\n",
       "      <td>Mojang</td>\n",
       "      <td>Xbox Game Studios</td>\n",
       "    </tr>\n",
       "    <tr>\n",
       "      <td>1</td>\n",
       "      <td>Tetris</td>\n",
       "      <td>170000000</td>\n",
       "      <td>Multi-platform</td>\n",
       "      <td>June 6, 1984</td>\n",
       "      <td>Elektronorgtechnica</td>\n",
       "      <td>Various[d]</td>\n",
       "    </tr>\n",
       "    <tr>\n",
       "      <td>2</td>\n",
       "      <td>Grand Theft Auto V</td>\n",
       "      <td>115000000</td>\n",
       "      <td>Multi-platform</td>\n",
       "      <td>September 17, 2013</td>\n",
       "      <td>Rockstar North</td>\n",
       "      <td>Rockstar Games</td>\n",
       "    </tr>\n",
       "    <tr>\n",
       "      <td>3</td>\n",
       "      <td>Wii Sports</td>\n",
       "      <td>82880000</td>\n",
       "      <td>Wii</td>\n",
       "      <td>November 19, 2006</td>\n",
       "      <td>Nintendo EAD</td>\n",
       "      <td>Nintendo</td>\n",
       "    </tr>\n",
       "    <tr>\n",
       "      <td>4</td>\n",
       "      <td>PlayerUnknown's Battlegrounds</td>\n",
       "      <td>50000000</td>\n",
       "      <td>Multi-platform</td>\n",
       "      <td>December 20, 2017</td>\n",
       "      <td>PUBG Corporation</td>\n",
       "      <td>PUBG Corporation</td>\n",
       "    </tr>\n",
       "  </tbody>\n",
       "</table>\n",
       "</div>"
      ],
      "text/plain": [
       "                           Title      Sales     Platform(s)  \\\n",
       "0                      Minecraft  180000000  Multi-platform   \n",
       "1                         Tetris  170000000  Multi-platform   \n",
       "2             Grand Theft Auto V  115000000  Multi-platform   \n",
       "3                     Wii Sports   82880000             Wii   \n",
       "4  PlayerUnknown's Battlegrounds   50000000  Multi-platform   \n",
       "\n",
       "   Initial release date      Developer(s)[a]    Publisher(s)[a]  \n",
       "0  November 18, 2011[c]               Mojang  Xbox Game Studios  \n",
       "1          June 6, 1984  Elektronorgtechnica         Various[d]  \n",
       "2    September 17, 2013       Rockstar North     Rockstar Games  \n",
       "3     November 19, 2006         Nintendo EAD           Nintendo  \n",
       "4     December 20, 2017     PUBG Corporation   PUBG Corporation  "
      ]
     },
     "execution_count": 10,
     "metadata": {},
     "output_type": "execute_result"
    }
   ],
   "source": [
    "df.head(5)"
   ]
  },
  {
   "cell_type": "code",
   "execution_count": 11,
   "metadata": {},
   "outputs": [
    {
     "name": "stdout",
     "output_type": "stream",
     "text": [
      "<class 'pandas.core.frame.DataFrame'>\n",
      "RangeIndex: 50 entries, 0 to 49\n",
      "Data columns (total 6 columns):\n",
      "Title                   50 non-null object\n",
      "Sales                   50 non-null int32\n",
      "Platform(s)             50 non-null object\n",
      "Initial release date    50 non-null object\n",
      "Developer(s)[a]         50 non-null object\n",
      "Publisher(s)[a]         50 non-null object\n",
      "dtypes: int32(1), object(5)\n",
      "memory usage: 1.2+ KB\n"
     ]
    }
   ],
   "source": [
    "df.info()"
   ]
  },
  {
   "cell_type": "code",
   "execution_count": 12,
   "metadata": {},
   "outputs": [
    {
     "data": {
      "text/plain": [
       "<matplotlib.axes._subplots.AxesSubplot at 0x97a75b0>"
      ]
     },
     "execution_count": 12,
     "metadata": {},
     "output_type": "execute_result"
    },
    {
     "data": {
      "image/png": "[encoded data removed]",
      "text/plain": [
       "<Figure size 432x288 with 1 Axes>"
      ]
     },
     "metadata": {
      "needs_background": "light"
     },
     "output_type": "display_data"
    }
   ],
   "source": [
    "sns.barplot(x='Sales', y='Title', data=df.head(5))"
   ]
  },
  {
   "cell_type": "code",
   "execution_count": 13,
   "metadata": {},
   "outputs": [],
   "source": [
    "df['Initial release date'] = df['Initial release date'].apply(lambda x : str(x.rstrip('[c]')))"
   ]
  },
  {
   "cell_type": "code",
   "execution_count": 14,
   "metadata": {},
   "outputs": [
    {
     "data": {
      "text/html": [
       "<div>\n",
       "<style scoped>\n",
       "    .dataframe tbody tr th:only-of-type {\n",
       "        vertical-align: middle;\n",
       "    }\n",
       "\n",
       "    .dataframe tbody tr th {\n",
       "        vertical-align: top;\n",
       "    }\n",
       "\n",
       "    .dataframe thead th {\n",
       "        text-align: right;\n",
       "    }\n",
       "</style>\n",
       "<table border=\"1\" class=\"dataframe\">\n",
       "  <thead>\n",
       "    <tr style=\"text-align: right;\">\n",
       "      <th></th>\n",
       "      <th>Title</th>\n",
       "      <th>Sales</th>\n",
       "      <th>Platform(s)</th>\n",
       "      <th>Initial release date</th>\n",
       "      <th>Developer(s)[a]</th>\n",
       "      <th>Publisher(s)[a]</th>\n",
       "    </tr>\n",
       "  </thead>\n",
       "  <tbody>\n",
       "    <tr>\n",
       "      <td>0</td>\n",
       "      <td>Minecraft</td>\n",
       "      <td>180000000</td>\n",
       "      <td>Multi-platform</td>\n",
       "      <td>November 18, 2011</td>\n",
       "      <td>Mojang</td>\n",
       "      <td>Xbox Game Studios</td>\n",
       "    </tr>\n",
       "    <tr>\n",
       "      <td>1</td>\n",
       "      <td>Tetris</td>\n",
       "      <td>170000000</td>\n",
       "      <td>Multi-platform</td>\n",
       "      <td>June 6, 1984</td>\n",
       "      <td>Elektronorgtechnica</td>\n",
       "      <td>Various[d]</td>\n",
       "    </tr>\n",
       "    <tr>\n",
       "      <td>2</td>\n",
       "      <td>Grand Theft Auto V</td>\n",
       "      <td>115000000</td>\n",
       "      <td>Multi-platform</td>\n",
       "      <td>September 17, 2013</td>\n",
       "      <td>Rockstar North</td>\n",
       "      <td>Rockstar Games</td>\n",
       "    </tr>\n",
       "    <tr>\n",
       "      <td>3</td>\n",
       "      <td>Wii Sports</td>\n",
       "      <td>82880000</td>\n",
       "      <td>Wii</td>\n",
       "      <td>November 19, 2006</td>\n",
       "      <td>Nintendo EAD</td>\n",
       "      <td>Nintendo</td>\n",
       "    </tr>\n",
       "    <tr>\n",
       "      <td>4</td>\n",
       "      <td>PlayerUnknown's Battlegrounds</td>\n",
       "      <td>50000000</td>\n",
       "      <td>Multi-platform</td>\n",
       "      <td>December 20, 2017</td>\n",
       "      <td>PUBG Corporation</td>\n",
       "      <td>PUBG Corporation</td>\n",
       "    </tr>\n",
       "  </tbody>\n",
       "</table>\n",
       "</div>"
      ],
      "text/plain": [
       "                           Title      Sales     Platform(s)  \\\n",
       "0                      Minecraft  180000000  Multi-platform   \n",
       "1                         Tetris  170000000  Multi-platform   \n",
       "2             Grand Theft Auto V  115000000  Multi-platform   \n",
       "3                     Wii Sports   82880000             Wii   \n",
       "4  PlayerUnknown's Battlegrounds   50000000  Multi-platform   \n",
       "\n",
       "  Initial release date      Developer(s)[a]    Publisher(s)[a]  \n",
       "0    November 18, 2011               Mojang  Xbox Game Studios  \n",
       "1         June 6, 1984  Elektronorgtechnica         Various[d]  \n",
       "2   September 17, 2013       Rockstar North     Rockstar Games  \n",
       "3    November 19, 2006         Nintendo EAD           Nintendo  \n",
       "4    December 20, 2017     PUBG Corporation   PUBG Corporation  "
      ]
     },
     "execution_count": 14,
     "metadata": {},
     "output_type": "execute_result"
    }
   ],
   "source": [
    "df.head(5)"
   ]
  }
 ],
 "metadata": {
  "kernelspec": {
   "display_name": "Python 3",
   "language": "python",
   "name": "python3"
  },
  "language_info": {
   "codemirror_mode": {
    "name": "ipython",
    "version": 3
   },
   "file_extension": ".py",
   "mimetype": "text/x-python",
   "name": "python",
   "nbconvert_exporter": "python",
   "pygments_lexer": "ipython3",
   "version": "3.7.4"
  }
 },
 "nbformat": 4,
 "nbformat_minor": 2
}
